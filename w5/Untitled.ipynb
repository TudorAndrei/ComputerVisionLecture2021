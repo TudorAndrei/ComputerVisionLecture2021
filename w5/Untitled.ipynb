{
 "cells": [
  {
   "cell_type": "code",
   "execution_count": 1,
   "id": "3e8a7515",
   "metadata": {},
   "outputs": [],
   "source": [
    "a = [1, 3, 1, 5, 100, 2, 4, 2, 1]"
   ]
  },
  {
   "cell_type": "code",
   "execution_count": 2,
   "id": "9cd226f9",
   "metadata": {},
   "outputs": [],
   "source": [
    "b = sorted(a)"
   ]
  },
  {
   "cell_type": "code",
   "execution_count": 3,
   "id": "a2a736a6",
   "metadata": {},
   "outputs": [
    {
     "name": "stdout",
     "output_type": "stream",
     "text": [
      "[1, 1, 1, 2, 2, 3, 4, 5, 100]\n"
     ]
    }
   ],
   "source": [
    "print(b)"
   ]
  },
  {
   "cell_type": "code",
   "execution_count": 4,
   "id": "110de073",
   "metadata": {},
   "outputs": [],
   "source": [
    "import statistics"
   ]
  },
  {
   "cell_type": "code",
   "execution_count": 5,
   "id": "92c9a6f5",
   "metadata": {},
   "outputs": [],
   "source": [
    "qs = statistics.quantiles(b)"
   ]
  },
  {
   "cell_type": "code",
   "execution_count": 6,
   "id": "0d2f9758",
   "metadata": {},
   "outputs": [
    {
     "data": {
      "text/plain": [
       "[1.0, 2.0, 4.5]"
      ]
     },
     "execution_count": 6,
     "metadata": {},
     "output_type": "execute_result"
    }
   ],
   "source": [
    "qs"
   ]
  },
  {
   "cell_type": "code",
   "execution_count": 7,
   "id": "7c460891",
   "metadata": {},
   "outputs": [],
   "source": [
    "iqr = qs[2] - qs[0]"
   ]
  },
  {
   "cell_type": "code",
   "execution_count": 10,
   "id": "01bb1903",
   "metadata": {},
   "outputs": [],
   "source": [
    "lower = qs[0] - 1.5 * iqr\n",
    "upper = qs[2] + 1."
   ]
  },
  {
   "cell_type": "code",
   "execution_count": 11,
   "id": "b6039dda",
   "metadata": {},
   "outputs": [
    {
     "name": "stdout",
     "output_type": "stream",
     "text": [
      "-4.25 5.5\n"
     ]
    }
   ],
   "source": [
    "print(lower, upper)"
   ]
  },
  {
   "cell_type": "code",
   "execution_count": 13,
   "id": "b67a5cbd",
   "metadata": {},
   "outputs": [],
   "source": [
    "mean = 3\n",
    "sd = 3"
   ]
  },
  {
   "cell_type": "code",
   "execution_count": 14,
   "id": "b41fe1e6",
   "metadata": {},
   "outputs": [
    {
     "name": "stdout",
     "output_type": "stream",
     "text": [
      "-6 12\n"
     ]
    }
   ],
   "source": [
    "print(mean-3*sd, mean+3*sd)"
   ]
  },
  {
   "cell_type": "code",
   "execution_count": 12,
   "id": "3565fe44",
   "metadata": {},
   "outputs": [],
   "source": [
    "window_size = 3"
   ]
  },
  {
   "cell_type": "code",
   "execution_count": 84,
   "id": "6dac974c",
   "metadata": {},
   "outputs": [
    {
     "name": "stdout",
     "output_type": "stream",
     "text": [
      "list =  [1, 3, 1, 5, 100, 2, 4, 2, 1]\n",
      "mean  =  [1.67, 3, 35.33, 35.67, 35.33, 2.67, 2.33]\n",
      "median  =  [1, 3, 5, 5, 4, 2, 2]\n",
      "min  =  [1, 1, 1, 2, 2, 2, 1]\n",
      "max  =  [3, 5, 100, 100, 100, 4, 4]\n"
     ]
    }
   ],
   "source": [
    "import statistics\n",
    "\n",
    "functions = [statistics.mean, statistics.median, min, max]\n",
    "\n",
    "a = [1, 3, 1, 5, 100, 2, 4, 2, 1]\n",
    "\n",
    "def filter(array, window_size, function):\n",
    "    result = []\n",
    "    for i in range(0, len(array) - window_size + 1):\n",
    "        m = round(function(array[i:i+window_size]),2)\n",
    "        result.append(m)\n",
    "    return result\n",
    "\n",
    "print(\"list = \", a)\n",
    "for f in functions:\n",
    "    print(f.__name__, \" = \" ,filter(a, 3, f))"
   ]
  },
  {
   "cell_type": "code",
   "execution_count": 73,
   "id": "dad46016",
   "metadata": {},
   "outputs": [],
   "source": []
  },
  {
   "cell_type": "code",
   "execution_count": 75,
   "id": "78fa283c",
   "metadata": {},
   "outputs": [
    {
     "name": "stdout",
     "output_type": "stream",
     "text": [
      "[1, 3, 1, 5, 100, 2, 4, 2, 1]\n",
      "mean\n",
      "[1.67, 3, 35.33, 35.67, 35.33, 2.67, 2.33]\n",
      "median\n",
      "[1, 3, 5, 5, 4, 2, 2]\n",
      "min\n",
      "[1, 1, 1, 2, 2, 2, 1]\n",
      "max\n",
      "[3, 5, 100, 100, 100, 4, 4]\n"
     ]
    }
   ],
   "source": [
    "print(a)\n",
    "for f in functions:\n",
    "    print(filter(a, 3, f))"
   ]
  }
 ],
 "metadata": {
  "kernelspec": {
   "display_name": "Python 3",
   "language": "python",
   "name": "python3"
  },
  "language_info": {
   "codemirror_mode": {
    "name": "ipython",
    "version": 3
   },
   "file_extension": ".py",
   "mimetype": "text/x-python",
   "name": "python",
   "nbconvert_exporter": "python",
   "pygments_lexer": "ipython3",
   "version": "3.8.0"
  }
 },
 "nbformat": 4,
 "nbformat_minor": 5
}
