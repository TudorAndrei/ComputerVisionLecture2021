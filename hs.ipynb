{
 "metadata": {
  "language_info": {
   "codemirror_mode": {
    "name": "ipython",
    "version": 3
   },
   "file_extension": ".py",
   "mimetype": "text/x-python",
   "name": "python",
   "nbconvert_exporter": "python",
   "pygments_lexer": "ipython3",
   "version": "3.9.5"
  },
  "orig_nbformat": 2,
  "kernelspec": {
   "name": "python3",
   "display_name": "Python 3.9.5 64-bit ('tf2': conda)"
  },
  "interpreter": {
   "hash": "40e3445ba6b8ae50e7ba24468b5c1a35eb55eef9089e02f0ce2c1d80d6d08f55"
  }
 },
 "nbformat": 4,
 "nbformat_minor": 2,
 "cells": [
  {
   "cell_type": "code",
   "execution_count": 1,
   "metadata": {},
   "outputs": [],
   "source": [
    "from tensorflow import keras\n",
    "from tensorflow.keras.layers import Conv2D, Dense, AveragePooling2D, MaxPooling2D, Input, Flatten"
   ]
  },
  {
   "cell_type": "code",
   "execution_count": 2,
   "metadata": {},
   "outputs": [
    {
     "output_type": "stream",
     "name": "stdout",
     "text": [
      "Model: \"sequential\"\n_________________________________________________________________\nLayer (type)                 Output Shape              Param #   \n=================================================================\nconv2d (Conv2D)              (None, 28, 28, 16)        1200      \n_________________________________________________________________\naverage_pooling2d (AveragePo (None, 14, 14, 16)        0         \n_________________________________________________________________\nconv2d_1 (Conv2D)            (None, 12, 12, 8)         1152      \n_________________________________________________________________\naverage_pooling2d_1 (Average (None, 6, 6, 8)           0         \n_________________________________________________________________\nflatten (Flatten)            (None, 288)               0         \n_________________________________________________________________\ndense (Dense)                (None, 32)                9216      \n_________________________________________________________________\ndense_1 (Dense)              (None, 16)                512       \n=================================================================\nTotal params: 12,080\nTrainable params: 12,080\nNon-trainable params: 0\n_________________________________________________________________\n"
     ]
    }
   ],
   "source": [
    "model1 = keras.Sequential()\n",
    "model1.add(Input(shape=(32,32,3)))\n",
    "model1.add(Conv2D(kernel_size=(5,5), strides=(1,1), filters=16, use_bias=False))\n",
    "model1.add(AveragePooling2D(pool_size=(2,2), strides=2))\n",
    "\n",
    "model1.add(Conv2D(kernel_size=(3,3), strides=(1,1), filters=8, use_bias=False))\n",
    "model1.add(AveragePooling2D(pool_size=(2,2), strides=2))\n",
    "\n",
    "model1.add(Flatten())\n",
    "model1.add(Dense(32, use_bias=False))\n",
    "model1.add(Dense(16, use_bias=False))\n",
    "model1.summary()"
   ]
  },
  {
   "cell_type": "code",
   "execution_count": 2,
   "metadata": {},
   "outputs": [
    {
     "output_type": "stream",
     "name": "stdout",
     "text": [
      "Model: \"sequential\"\n_________________________________________________________________\nLayer (type)                 Output Shape              Param #   \n=================================================================\nconv2d (Conv2D)              (None, 94, 94, 32)        288       \n_________________________________________________________________\naverage_pooling2d (AveragePo (None, 31, 31, 32)        0         \n_________________________________________________________________\nconv2d_1 (Conv2D)            (None, 29, 29, 16)        4608      \n_________________________________________________________________\naverage_pooling2d_1 (Average (None, 14, 14, 16)        0         \n_________________________________________________________________\nconv2d_2 (Conv2D)            (None, 12, 12, 32)        4608      \n_________________________________________________________________\naverage_pooling2d_2 (Average (None, 6, 6, 32)          0         \n_________________________________________________________________\nflatten (Flatten)            (None, 1152)              0         \n_________________________________________________________________\ndense (Dense)                (None, 128)               147456    \n_________________________________________________________________\ndense_1 (Dense)              (None, 2)                 256       \n=================================================================\nTotal params: 157,216\nTrainable params: 157,216\nNon-trainable params: 0\n_________________________________________________________________\n"
     ]
    }
   ],
   "source": [
    "model1 = keras.Sequential()\n",
    "model1.add(Input(shape=(96,96,1)))\n",
    "model1.add(Conv2D(kernel_size=(3,3), strides=(1,1), filters=32, use_bias=False))\n",
    "model1.add(AveragePooling2D(pool_size=(2,2), strides=3))\n",
    "\n",
    "model1.add(Conv2D(kernel_size=(3,3), strides=(1,1), filters=16, use_bias=False))\n",
    "model1.add(AveragePooling2D(pool_size=(2,2), strides=2))\n",
    "\n",
    "model1.add(Conv2D(kernel_size=(3,3), strides=(1,1), filters=32, use_bias=False))\n",
    "model1.add(AveragePooling2D(pool_size=(2,2), strides=2))\n",
    "\n",
    "model1.add(Flatten())\n",
    "model1.add(Dense(128, use_bias=False))\n",
    "model1.add(Dense(2, use_bias=False))\n",
    "model1.summary()"
   ]
  },
  {
   "cell_type": "code",
   "execution_count": 3,
   "metadata": {},
   "outputs": [
    {
     "output_type": "stream",
     "name": "stdout",
     "text": [
      "Model: \"sequential_1\"\n_________________________________________________________________\nLayer (type)                 Output Shape              Param #   \n=================================================================\nconv2d_2 (Conv2D)            (None, 30, 30, 64)        576       \n_________________________________________________________________\nmax_pooling2d (MaxPooling2D) (None, 29, 29, 64)        0         \n_________________________________________________________________\nconv2d_3 (Conv2D)            (None, 25, 25, 32)        51200     \n_________________________________________________________________\nmax_pooling2d_1 (MaxPooling2 (None, 12, 12, 32)        0         \n_________________________________________________________________\nconv2d_4 (Conv2D)            (None, 10, 10, 16)        4608      \n_________________________________________________________________\nmax_pooling2d_2 (MaxPooling2 (None, 5, 5, 16)          0         \n_________________________________________________________________\nflatten_1 (Flatten)          (None, 400)               0         \n_________________________________________________________________\ndense_2 (Dense)              (None, 16)                6400      \n_________________________________________________________________\ndense_3 (Dense)              (None, 10)                160       \n=================================================================\nTotal params: 62,944\nTrainable params: 62,944\nNon-trainable params: 0\n_________________________________________________________________\n"
     ]
    }
   ],
   "source": [
    "model2 = keras.Sequential()\n",
    "model2.add(Input(shape=(32,32,1)))\n",
    "model2.add(Conv2D(kernel_size=(3,3), strides=(1,1), filters=64, use_bias=False, input_shape=(32,32,1)))\n",
    "model2.add(MaxPooling2D(pool_size=(2,2), strides=1))\n",
    "model2.add(Conv2D(kernel_size=(5,5), strides=(1,1), filters=32, use_bias=False))\n",
    "model2.add(MaxPooling2D(pool_size=(2,2), strides=2))\n",
    "model2.add(Conv2D(kernel_size=(3,3), strides=(1,1), filters=16, use_bias=False))\n",
    "model2.add(MaxPooling2D(pool_size=(2,2), strides=2))\n",
    "model2.add(Flatten())\n",
    "model2.add(Dense(16, use_bias=False))\n",
    "model2.add(Dense(10, use_bias=False))\n",
    "model2.summary()"
   ]
  },
  {
   "cell_type": "code",
   "execution_count": 4,
   "metadata": {},
   "outputs": [
    {
     "output_type": "stream",
     "name": "stdout",
     "text": [
      "Model: \"sequential_2\"\n_________________________________________________________________\nLayer (type)                 Output Shape              Param #   \n=================================================================\nconv2d_5 (Conv2D)            (None, 62, 62, 32)        288       \n_________________________________________________________________\nmax_pooling2d_3 (MaxPooling2 (None, 61, 61, 32)        0         \n_________________________________________________________________\nconv2d_6 (Conv2D)            (None, 57, 57, 32)        25600     \n_________________________________________________________________\nmax_pooling2d_4 (MaxPooling2 (None, 28, 28, 32)        0         \n_________________________________________________________________\nconv2d_7 (Conv2D)            (None, 26, 26, 32)        9216      \n_________________________________________________________________\nmax_pooling2d_5 (MaxPooling2 (None, 13, 13, 32)        0         \n_________________________________________________________________\nflatten_2 (Flatten)          (None, 5408)              0         \n_________________________________________________________________\ndense_4 (Dense)              (None, 128)               692224    \n_________________________________________________________________\ndense_5 (Dense)              (None, 10)                1280      \n=================================================================\nTotal params: 728,608\nTrainable params: 728,608\nNon-trainable params: 0\n_________________________________________________________________\n"
     ]
    }
   ],
   "source": [
    "model3 = keras.Sequential()\n",
    "# model3.add(Input(shape=(32,32,1)))\n",
    "model3.add(Conv2D(kernel_size=(3,3), strides=(1,1), filters=32, use_bias=False, input_shape=(64,64,1)))\n",
    "model3.add(MaxPooling2D(pool_size=(2,2), strides=1))\n",
    "\n",
    "model3.add(Conv2D(kernel_size=(5,5), strides=(1,1), filters=32, use_bias=False))\n",
    "model3.add(MaxPooling2D(pool_size=(2,2), strides=2))\n",
    "\n",
    "model3.add(Conv2D(kernel_size=(3,3), strides=(1,1), filters=32, use_bias=False))\n",
    "model3.add(MaxPooling2D(pool_size=(2,2), strides=2))\n",
    "model3.add(Flatten())\n",
    "model3.add(Dense(128, use_bias=False))\n",
    "model3.add(Dense(10, use_bias=False))\n",
    "model3.summary()"
   ]
  },
  {
   "cell_type": "code",
   "execution_count": null,
   "metadata": {},
   "outputs": [],
   "source": []
  }
 ]
}